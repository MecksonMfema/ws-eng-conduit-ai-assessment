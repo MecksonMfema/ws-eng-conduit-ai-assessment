{
  "nbformat": 4,
  "nbformat_minor": 0,
  "metadata": {
    "colab": {
      "provenance": [],
      "include_colab_link": true
    },
    "kernelspec": {
      "name": "python3",
      "display_name": "Python 3"
    },
    "language_info": {
      "name": "python"
    }
  },
  "cells": [
    {
      "cell_type": "markdown",
      "metadata": {
        "id": "view-in-github",
        "colab_type": "text"
      },
      "source": [
        "<a href=\"https://colab.research.google.com/github/MecksonMfema/ws-eng-conduit-ai-assessment/blob/master/Solve_Business_Problems_with_AI.ipynb\" target=\"_parent\"><img src=\"https://colab.research.google.com/assets/colab-badge.svg\" alt=\"Open In Colab\"/></a>"
      ]
    },
    {
      "cell_type": "markdown",
      "metadata": {
        "id": "e0n49UaWPGAd"
      },
      "source": [
        "# Solve Business Problems with AI\n",
        "\n",
        "## Objective\n",
        "Develop a proof-of-concept application to intelligently process email order requests and customer inquiries for a fashion store. The system should accurately categorize emails as either product inquiries or order requests and generate appropriate responses using the product catalog information and current stock status.\n",
        "\n",
        "You are encouraged to use AI assistants (like ChatGPT or Claude) and any IDE of your choice to develop your solution. Many modern IDEs (such as PyCharm, or Cursor) can work with Jupiter files directly.\n",
        "\n",
        "## Task Description\n",
        "\n",
        "### Inputs\n",
        "\n",
        "Google Spreadsheet **[Document](https://docs.google.com/spreadsheets/d/14fKHsblfqZfWj3iAaM2oA51TlYfQlFT4WKo52fVaQ9U)** containing:\n",
        "\n",
        "- **Products**: List of products with fields including product ID, name, category, stock amount, detailed description, and season.\n",
        "\n",
        "- **Emails**: Sequential list of emails with fields such as email ID, subject, and body.\n",
        "\n",
        "### Instructions\n",
        "\n",
        "- Implement all requirements using advanced Large Language Models (LLMs) to handle complex tasks, process extensive data, and generate accurate outputs effectively.\n",
        "- Use Retrieval-Augmented Generation (RAG) and vector store techniques where applicable to retrieve relevant information and generate responses.\n",
        "- You are provided with a temporary OpenAI API key granting access to GPT-4o, which has a token quota. Use it wisely or use your own key if preferred.\n",
        "- Address the requirements in the order listed. Review them in advance to develop a general implementation plan before starting.\n",
        "- Your deliverables should include:\n",
        "   - Code developed within this notebook.\n",
        "   - A single spreadsheet containing results, organized across separate sheets.\n",
        "   - Comments detailing your thought process.\n",
        "- You may use additional libraries (e.g., langchain) to streamline the solution. Use libraries appropriately to align with best practices for AI and LLM tools.\n",
        "- Use the most suitable AI techniques for each task. Note that solving tasks with traditional programming methods will not earn points, as this assessment evaluates your knowledge of LLM tools and best practices.\n",
        "\n",
        "### Requirements\n",
        "\n",
        "#### 1. Classify emails\n",
        "    \n",
        "Classify each email as either a _**\"product inquiry\"**_ or an _**\"order request\"**_. Ensure that the classification accurately reflects the intent of the email.\n",
        "\n",
        "**Output**: Populate the **email-classification** sheet with columns: email ID, category.\n",
        "\n",
        "#### 2. Process order requests\n",
        "1.   Process orders\n",
        "  - For each order request, verify product availability in stock.\n",
        "  - If the order can be fulfilled, create a new order line with the status “created”.\n",
        "  - If the order cannot be fulfilled due to insufficient stock, create a line with the status “out of stock” and include the requested quantity.\n",
        "  - Update stock levels after processing each order.\n",
        "  - Record each product request from the email.\n",
        "  - **Output**: Populate the **order-status** sheet with columns: email ID, product ID, quantity, status (**_\"created\"_**, **_\"out of stock\"_**).\n",
        "\n",
        "2.   Generate responses\n",
        "  - Create response emails based on the order processing results:\n",
        "      - If the order is fully processed, inform the customer and provide product details.\n",
        "      - If the order cannot be fulfilled or is only partially fulfilled, explain the situation, specify the out-of-stock items, and suggest alternatives or options (e.g., waiting for restock).\n",
        "  - Ensure the email tone is professional and production-ready.\n",
        "  - **Output**: Populate the **order-response** sheet with columns: email ID, response.\n",
        "\n",
        "#### 3. Handle product inquiry\n",
        "\n",
        "Customers may ask general open questions.\n",
        "  - Respond to product inquiries using relevant information from the product catalog.\n",
        "  - Ensure your solution scales to handle a full catalog of over 100,000 products without exceeding token limits. Avoid including the entire catalog in the prompt.\n",
        "  - **Output**: Populate the **inquiry-response** sheet with columns: email ID, response.\n",
        "\n",
        "## Evaluation Criteria\n",
        "- **Advanced AI Techniques**: The system should use Retrieval-Augmented Generation (RAG) and vector store techniques to retrieve relevant information from data sources and use it to respond to customer inquiries.\n",
        "- **Tone Adaptation**: The AI should adapt its tone appropriately based on the context of the customer's inquiry. Responses should be informative and enhance the customer experience.\n",
        "- **Code Completeness**: All functionalities outlined in the requirements must be fully implemented and operational as described.\n",
        "- **Code Quality and Clarity**: The code should be well-organized, with clear logic and a structured approach. It should be easy to understand and maintain.\n",
        "- **Presence of Expected Outputs**: All specified outputs must be correctly generated and saved in the appropriate sheets of the output spreadsheet. Ensure the format of each output matches the requirements—do not add extra columns or sheets.\n",
        "- **Accuracy of Outputs**: The accuracy of the generated outputs is crucial and will significantly impact the evaluation of your submission.\n",
        "\n",
        "We look forward to seeing your solution and your approach to solving real-world problems with AI technologies."
      ]
    },
    {
      "cell_type": "markdown",
      "metadata": {
        "id": "GOUEcKe-xSPr"
      },
      "source": [
        "# Prerequisites"
      ]
    },
    {
      "cell_type": "markdown",
      "metadata": {
        "id": "otSVe-sQ-CsW"
      },
      "source": [
        "### Configure OpenAI API Key."
      ]
    },
    {
      "cell_type": "code",
      "execution_count": 2,
      "metadata": {
        "id": "UvOkHAkDghww",
        "colab": {
          "base_uri": "https://localhost:8080/"
        },
        "outputId": "7f5affa6-f9c5-40ff-fd50-9b6d348b6493"
      },
      "outputs": [
        {
          "output_type": "stream",
          "name": "stdout",
          "text": [
            "Requirement already satisfied: openai in /usr/local/lib/python3.11/dist-packages (1.97.1)\n",
            "Collecting httpx==0.27.2\n",
            "  Downloading httpx-0.27.2-py3-none-any.whl.metadata (7.1 kB)\n",
            "Requirement already satisfied: anyio in /usr/local/lib/python3.11/dist-packages (from httpx==0.27.2) (4.9.0)\n",
            "Requirement already satisfied: certifi in /usr/local/lib/python3.11/dist-packages (from httpx==0.27.2) (2025.7.14)\n",
            "Requirement already satisfied: httpcore==1.* in /usr/local/lib/python3.11/dist-packages (from httpx==0.27.2) (1.0.9)\n",
            "Requirement already satisfied: idna in /usr/local/lib/python3.11/dist-packages (from httpx==0.27.2) (3.10)\n",
            "Requirement already satisfied: sniffio in /usr/local/lib/python3.11/dist-packages (from httpx==0.27.2) (1.3.1)\n",
            "Requirement already satisfied: h11>=0.16 in /usr/local/lib/python3.11/dist-packages (from httpcore==1.*->httpx==0.27.2) (0.16.0)\n",
            "Requirement already satisfied: distro<2,>=1.7.0 in /usr/local/lib/python3.11/dist-packages (from openai) (1.9.0)\n",
            "Requirement already satisfied: jiter<1,>=0.4.0 in /usr/local/lib/python3.11/dist-packages (from openai) (0.10.0)\n",
            "Requirement already satisfied: pydantic<3,>=1.9.0 in /usr/local/lib/python3.11/dist-packages (from openai) (2.11.7)\n",
            "Requirement already satisfied: tqdm>4 in /usr/local/lib/python3.11/dist-packages (from openai) (4.67.1)\n",
            "Requirement already satisfied: typing-extensions<5,>=4.11 in /usr/local/lib/python3.11/dist-packages (from openai) (4.14.1)\n",
            "Requirement already satisfied: annotated-types>=0.6.0 in /usr/local/lib/python3.11/dist-packages (from pydantic<3,>=1.9.0->openai) (0.7.0)\n",
            "Requirement already satisfied: pydantic-core==2.33.2 in /usr/local/lib/python3.11/dist-packages (from pydantic<3,>=1.9.0->openai) (2.33.2)\n",
            "Requirement already satisfied: typing-inspection>=0.4.0 in /usr/local/lib/python3.11/dist-packages (from pydantic<3,>=1.9.0->openai) (0.4.1)\n",
            "Downloading httpx-0.27.2-py3-none-any.whl (76 kB)\n",
            "\u001b[2K   \u001b[90m━━━━━━━━━━━━━━━━━━━━━━━━━━━━━━━━━━━━━━━━\u001b[0m \u001b[32m76.4/76.4 kB\u001b[0m \u001b[31m2.5 MB/s\u001b[0m eta \u001b[36m0:00:00\u001b[0m\n",
            "\u001b[?25hInstalling collected packages: httpx\n",
            "  Attempting uninstall: httpx\n",
            "    Found existing installation: httpx 0.28.1\n",
            "    Uninstalling httpx-0.28.1:\n",
            "      Successfully uninstalled httpx-0.28.1\n",
            "\u001b[31mERROR: pip's dependency resolver does not currently take into account all the packages that are installed. This behaviour is the source of the following dependency conflicts.\n",
            "google-genai 1.27.0 requires httpx<1.0.0,>=0.28.1, but you have httpx 0.27.2 which is incompatible.\n",
            "firebase-admin 6.9.0 requires httpx[http2]==0.28.1, but you have httpx 0.27.2 which is incompatible.\u001b[0m\u001b[31m\n",
            "\u001b[0mSuccessfully installed httpx-0.27.2\n"
          ]
        }
      ],
      "source": [
        "# Install the OpenAI Python package.\n",
        "%pip install openai httpx==0.27.2"
      ]
    },
    {
      "cell_type": "markdown",
      "source": [
        "**IMPORTANT: If you are going to use our custom API Key then make sure that you also use custom base URL as in example below. Otherwise it will not work.**"
      ],
      "metadata": {
        "id": "IKJf-dPLwXMu"
      }
    },
    {
      "cell_type": "code",
      "execution_count": 3,
      "metadata": {
        "id": "caEG5zIMw8DV"
      },
      "outputs": [],
      "source": [
        "# Code example of OpenAI communication\n",
        "\n",
        "from openai import OpenAI\n",
        "\n",
        "client = OpenAI(\n",
        "    # In order to use provided API key, make sure that models you create point to this custom base URL.\n",
        "    base_url='https://47v4us7kyypinfb5lcligtc3x40ygqbs.lambda-url.us-east-1.on.aws/v1/',\n",
        "    # The temporary API key giving access to ChatGPT 4o model. Quotas apply: you have 500'000 input and 500'000 output tokens, use them wisely ;)\n",
        "    api_key='a0BIj000002xWtaMAE'\n",
        ")"
      ]
    },
    {
      "cell_type": "code",
      "source": [
        "# Code example of reading input data\n",
        "%load_ext cudf.pandas\n",
        "import pandas as pd\n",
        "from IPython.display import display\n",
        "\n",
        "def read_data_frame(document_id, sheet_name):\n",
        "    export_link = f\"https://docs.google.com/spreadsheets/d/{document_id}/gviz/tq?tqx=out:csv&sheet={sheet_name}\"\n",
        "    return  pd.read_csv(export_link)\n",
        "\n",
        "document_id = '14fKHsblfqZfWj3iAaM2oA51TlYfQlFT4WKo52fVaQ9U'\n",
        "products_df = read_data_frame(document_id, 'products')\n",
        "emails_df = read_data_frame(document_id, 'emails')\n",
        "\n",
        "# Display first 3 rows of each DataFrame\n",
        "display(products_df.head(3))\n",
        "display(emails_df.head(3))"
      ],
      "metadata": {
        "id": "shE97VzGwZ4v",
        "colab": {
          "base_uri": "https://localhost:8080/",
          "height": 411
        },
        "outputId": "a0246a9b-e2dd-46ab-e5d0-b0488e07ea9d"
      },
      "execution_count": 4,
      "outputs": [
        {
          "output_type": "stream",
          "name": "stderr",
          "text": [
            "/usr/local/lib/python3.11/dist-packages/cudf/utils/gpu_utils.py:75: UserWarning: Failed to dlopen libcuda.so.1\n",
            "  warnings.warn(str(e))\n",
            "/usr/local/lib/python3.11/dist-packages/cudf/pandas/__init__.py:64: UserWarning: Function \"cuInit\" not found\n",
            "  warnings.warn(str(e))\n"
          ]
        },
        {
          "output_type": "display_data",
          "data": {
            "text/plain": [
              "  product_id              name     category  \\\n",
              "0    RSG8901  Retro Sunglasses  Accessories   \n",
              "1    SWL2345      Sleek Wallet  Accessories   \n",
              "2    VSC6789   Versatile Scarf  Accessories   \n",
              "\n",
              "                                         description  stock         seasons  \\\n",
              "0  Transport yourself back in time with our retro...      1  Spring, Summer   \n",
              "1  Keep your essentials organized and secure with...      5     All seasons   \n",
              "2  Add a touch of versatility to your wardrobe wi...      6    Spring, Fall   \n",
              "\n",
              "   price  \n",
              "0  26.99  \n",
              "1  30.00  \n",
              "2  23.00  "
            ],
            "text/html": [
              "<div>\n",
              "<style scoped>\n",
              "    .dataframe tbody tr th:only-of-type {\n",
              "        vertical-align: middle;\n",
              "    }\n",
              "\n",
              "    .dataframe tbody tr th {\n",
              "        vertical-align: top;\n",
              "    }\n",
              "\n",
              "    .dataframe thead th {\n",
              "        text-align: right;\n",
              "    }\n",
              "</style>\n",
              "<table border=\"1\" class=\"dataframe\">\n",
              "  <thead>\n",
              "    <tr style=\"text-align: right;\">\n",
              "      <th></th>\n",
              "      <th>product_id</th>\n",
              "      <th>name</th>\n",
              "      <th>category</th>\n",
              "      <th>description</th>\n",
              "      <th>stock</th>\n",
              "      <th>seasons</th>\n",
              "      <th>price</th>\n",
              "    </tr>\n",
              "  </thead>\n",
              "  <tbody>\n",
              "    <tr>\n",
              "      <th>0</th>\n",
              "      <td>RSG8901</td>\n",
              "      <td>Retro Sunglasses</td>\n",
              "      <td>Accessories</td>\n",
              "      <td>Transport yourself back in time with our retro...</td>\n",
              "      <td>1</td>\n",
              "      <td>Spring, Summer</td>\n",
              "      <td>26.99</td>\n",
              "    </tr>\n",
              "    <tr>\n",
              "      <th>1</th>\n",
              "      <td>SWL2345</td>\n",
              "      <td>Sleek Wallet</td>\n",
              "      <td>Accessories</td>\n",
              "      <td>Keep your essentials organized and secure with...</td>\n",
              "      <td>5</td>\n",
              "      <td>All seasons</td>\n",
              "      <td>30.00</td>\n",
              "    </tr>\n",
              "    <tr>\n",
              "      <th>2</th>\n",
              "      <td>VSC6789</td>\n",
              "      <td>Versatile Scarf</td>\n",
              "      <td>Accessories</td>\n",
              "      <td>Add a touch of versatility to your wardrobe wi...</td>\n",
              "      <td>6</td>\n",
              "      <td>Spring, Fall</td>\n",
              "      <td>23.00</td>\n",
              "    </tr>\n",
              "  </tbody>\n",
              "</table>\n",
              "</div>"
            ],
            "application/vnd.google.colaboratory.intrinsic+json": {
              "type": "dataframe",
              "summary": "{\n  \"name\": \"display(emails_df\",\n  \"rows\": 3,\n  \"fields\": [\n    {\n      \"column\": \"product_id\",\n      \"properties\": {\n        \"dtype\": \"string\",\n        \"num_unique_values\": 3,\n        \"samples\": [\n          \"RSG8901\",\n          \"SWL2345\",\n          \"VSC6789\"\n        ],\n        \"semantic_type\": \"\",\n        \"description\": \"\"\n      }\n    },\n    {\n      \"column\": \"name\",\n      \"properties\": {\n        \"dtype\": \"string\",\n        \"num_unique_values\": 3,\n        \"samples\": [\n          \"Retro Sunglasses\",\n          \"Sleek Wallet\",\n          \"Versatile Scarf\"\n        ],\n        \"semantic_type\": \"\",\n        \"description\": \"\"\n      }\n    },\n    {\n      \"column\": \"category\",\n      \"properties\": {\n        \"dtype\": \"category\",\n        \"num_unique_values\": 1,\n        \"samples\": [\n          \"Accessories\"\n        ],\n        \"semantic_type\": \"\",\n        \"description\": \"\"\n      }\n    },\n    {\n      \"column\": \"description\",\n      \"properties\": {\n        \"dtype\": \"string\",\n        \"num_unique_values\": 3,\n        \"samples\": [\n          \"Transport yourself back in time with our retro sunglasses. These vintage-inspired shades offer a cool, nostalgic vibe while protecting your eyes from the sun's rays. Perfect for beach days or city strolls.\"\n        ],\n        \"semantic_type\": \"\",\n        \"description\": \"\"\n      }\n    },\n    {\n      \"column\": \"stock\",\n      \"properties\": {\n        \"dtype\": \"number\",\n        \"std\": 2,\n        \"min\": 1,\n        \"max\": 6,\n        \"num_unique_values\": 3,\n        \"samples\": [\n          1\n        ],\n        \"semantic_type\": \"\",\n        \"description\": \"\"\n      }\n    },\n    {\n      \"column\": \"seasons\",\n      \"properties\": {\n        \"dtype\": \"string\",\n        \"num_unique_values\": 3,\n        \"samples\": [\n          \"Spring, Summer\"\n        ],\n        \"semantic_type\": \"\",\n        \"description\": \"\"\n      }\n    },\n    {\n      \"column\": \"price\",\n      \"properties\": {\n        \"dtype\": \"number\",\n        \"std\": 3.5114147196441112,\n        \"min\": 23.0,\n        \"max\": 30.0,\n        \"num_unique_values\": 3,\n        \"samples\": [\n          26.99\n        ],\n        \"semantic_type\": \"\",\n        \"description\": \"\"\n      }\n    }\n  ]\n}"
            }
          },
          "metadata": {}
        },
        {
          "output_type": "display_data",
          "data": {
            "text/plain": [
              "  email_id                      subject  \\\n",
              "0     E001              Leather Wallets   \n",
              "1     E002  Buy Vibrant Tote with noise   \n",
              "2     E003               Need your help   \n",
              "\n",
              "                                             message  \n",
              "0  Hi there, I want to order all the remaining LT...  \n",
              "1  Good morning, I'm looking to buy the VBT2345 V...  \n",
              "2  Hello, I need a new bag to carry my laptop and...  "
            ],
            "text/html": [
              "<div>\n",
              "<style scoped>\n",
              "    .dataframe tbody tr th:only-of-type {\n",
              "        vertical-align: middle;\n",
              "    }\n",
              "\n",
              "    .dataframe tbody tr th {\n",
              "        vertical-align: top;\n",
              "    }\n",
              "\n",
              "    .dataframe thead th {\n",
              "        text-align: right;\n",
              "    }\n",
              "</style>\n",
              "<table border=\"1\" class=\"dataframe\">\n",
              "  <thead>\n",
              "    <tr style=\"text-align: right;\">\n",
              "      <th></th>\n",
              "      <th>email_id</th>\n",
              "      <th>subject</th>\n",
              "      <th>message</th>\n",
              "    </tr>\n",
              "  </thead>\n",
              "  <tbody>\n",
              "    <tr>\n",
              "      <th>0</th>\n",
              "      <td>E001</td>\n",
              "      <td>Leather Wallets</td>\n",
              "      <td>Hi there, I want to order all the remaining LT...</td>\n",
              "    </tr>\n",
              "    <tr>\n",
              "      <th>1</th>\n",
              "      <td>E002</td>\n",
              "      <td>Buy Vibrant Tote with noise</td>\n",
              "      <td>Good morning, I'm looking to buy the VBT2345 V...</td>\n",
              "    </tr>\n",
              "    <tr>\n",
              "      <th>2</th>\n",
              "      <td>E003</td>\n",
              "      <td>Need your help</td>\n",
              "      <td>Hello, I need a new bag to carry my laptop and...</td>\n",
              "    </tr>\n",
              "  </tbody>\n",
              "</table>\n",
              "</div>"
            ],
            "application/vnd.google.colaboratory.intrinsic+json": {
              "type": "dataframe",
              "summary": "{\n  \"name\": \"display(emails_df\",\n  \"rows\": 3,\n  \"fields\": [\n    {\n      \"column\": \"email_id\",\n      \"properties\": {\n        \"dtype\": \"string\",\n        \"num_unique_values\": 3,\n        \"samples\": [\n          \"E001\",\n          \"E002\",\n          \"E003\"\n        ],\n        \"semantic_type\": \"\",\n        \"description\": \"\"\n      }\n    },\n    {\n      \"column\": \"subject\",\n      \"properties\": {\n        \"dtype\": \"string\",\n        \"num_unique_values\": 3,\n        \"samples\": [\n          \"Leather Wallets\",\n          \"Buy Vibrant Tote with noise\",\n          \"Need your help\"\n        ],\n        \"semantic_type\": \"\",\n        \"description\": \"\"\n      }\n    },\n    {\n      \"column\": \"message\",\n      \"properties\": {\n        \"dtype\": \"string\",\n        \"num_unique_values\": 3,\n        \"samples\": [\n          \"Hi there, I want to order all the remaining LTH0976 Leather Bifold Wallets you have in stock. I'm opening up a small boutique shop and these would be perfect for my inventory. Thank you!\",\n          \"Good morning, I'm looking to buy the VBT2345 Vibrant Tote bag. My name is Jessica and I love tote bags, they're so convenient for carrying all my stuff. Last summer I bought this really cute straw tote that I used at the beach. Oh, and a few years ago I got this nylon tote as a free gift with purchase that I still use for groceries.\",\n          \"Hello, I need a new bag to carry my laptop and documents for work. My name is David and I'm having a hard time deciding which would be better - the LTH1098 Leather Backpack or the Leather Tote? Does one have more organizational pockets than the other? Any insight would be appreciated!\"\n        ],\n        \"semantic_type\": \"\",\n        \"description\": \"\"\n      }\n    }\n  ]\n}"
            }
          },
          "metadata": {}
        }
      ]
    },
    {
      "cell_type": "code",
      "source": [
        "# Code example of generating output document\n",
        "\n",
        "# Creates a new shared Google Worksheet every invocation with the proper structure\n",
        "# Note: This code should be executed from the google colab once you are ready, it will not work locally\n",
        "from google.colab import auth\n",
        "import gspread\n",
        "from google.auth import default\n",
        "from gspread_dataframe import set_with_dataframe\n",
        "\n",
        "# IMPORTANT: You need to authenticate the user to be able to create new worksheet\n",
        "# Insert the authentication snippet from the official documentation to create a google client:\n",
        "# https://colab.research.google.com/notebooks/io.ipynb#scrollTo=qzi9VsEqzI-o\n",
        "\n",
        "# This code goes after creating google client\n",
        "output_document = gc.create('Solving Business Problems with AI - Output')\n",
        "\n",
        "# Create 'email-classification' sheet\n",
        "email_classification_sheet = output_document.add_worksheet(title=\"email-classification\", rows=50, cols=2)\n",
        "email_classification_sheet.update([['email ID', 'category']], 'A1:B1')\n",
        "\n",
        "# Example of writing the data into the sheet\n",
        "# Assuming you have your classification in the email_classification_df DataFrame\n",
        "# set_with_dataframe(email_classification_sheet, email_classification_df)\n",
        "# Or directly update cells: https://docs.gspread.org/en/latest/user-guide.html#updating-cells\n",
        "\n",
        "# Create 'order-status' sheet\n",
        "order_status_sheet = output_document.add_worksheet(title=\"order-status\", rows=50, cols=4)\n",
        "order_status_sheet.update([['email ID', 'product ID', 'quantity', 'status']], 'A1:D1')\n",
        "\n",
        "# Create 'order-response' sheet\n",
        "order_response_sheet = output_document.add_worksheet(title=\"order-response\", rows=50, cols=2)\n",
        "order_response_sheet.update([['email ID', 'response']], 'A1:B1')\n",
        "\n",
        "# Create 'inquiry-response' sheet\n",
        "inquiry_response_sheet = output_document.add_worksheet(title=\"inquiry-response\", rows=50, cols=2)\n",
        "inquiry_response_sheet.update([['email ID', 'response']], 'A1:B1')\n",
        "\n",
        "# Share the spreadsheet publicly\n",
        "output_document.share('', perm_type='anyone', role='reader')\n",
        "\n",
        "# This is the solution output link, paste it into the submission form\n",
        "print(f\"Shareable link: https://docs.google.com/spreadsheets/d/{output_document.id}\")"
      ],
      "metadata": {
        "id": "_OTC44s1oJhb",
        "colab": {
          "base_uri": "https://localhost:8080/",
          "height": 211
        },
        "outputId": "e3ba57e7-c9d5-42af-d1cf-212f68655c62"
      },
      "execution_count": 5,
      "outputs": [
        {
          "output_type": "error",
          "ename": "NameError",
          "evalue": "name 'gc' is not defined",
          "traceback": [
            "\u001b[0;31m---------------------------------------------------------------------------\u001b[0m",
            "\u001b[0;31mNameError\u001b[0m                                 Traceback (most recent call last)",
            "\u001b[0;32m/tmp/ipython-input-5-3780540657.py\u001b[0m in \u001b[0;36m<cell line: 0>\u001b[0;34m()\u001b[0m\n\u001b[1;32m     13\u001b[0m \u001b[0;34m\u001b[0m\u001b[0m\n\u001b[1;32m     14\u001b[0m \u001b[0;31m# This code goes after creating google client\u001b[0m\u001b[0;34m\u001b[0m\u001b[0;34m\u001b[0m\u001b[0m\n\u001b[0;32m---> 15\u001b[0;31m \u001b[0moutput_document\u001b[0m \u001b[0;34m=\u001b[0m \u001b[0mgc\u001b[0m\u001b[0;34m.\u001b[0m\u001b[0mcreate\u001b[0m\u001b[0;34m(\u001b[0m\u001b[0;34m'Solving Business Problems with AI - Output'\u001b[0m\u001b[0;34m)\u001b[0m\u001b[0;34m\u001b[0m\u001b[0;34m\u001b[0m\u001b[0m\n\u001b[0m\u001b[1;32m     16\u001b[0m \u001b[0;34m\u001b[0m\u001b[0m\n\u001b[1;32m     17\u001b[0m \u001b[0;31m# Create 'email-classification' sheet\u001b[0m\u001b[0;34m\u001b[0m\u001b[0;34m\u001b[0m\u001b[0m\n",
            "\u001b[0;31mNameError\u001b[0m: name 'gc' is not defined"
          ]
        }
      ]
    },
    {
      "cell_type": "markdown",
      "metadata": {
        "id": "zyvqJ-BUNKQR"
      },
      "source": [
        "# Task 1. Classify emails"
      ]
    },
    {
      "cell_type": "code",
      "source": [
        "import re\n",
        "import numpy as np"
      ],
      "metadata": {
        "id": "kA8E9ChL5sdu"
      },
      "execution_count": 6,
      "outputs": []
    },
    {
      "cell_type": "code",
      "source": [
        "# Preprocessing\n",
        "def clean_text(text):\n",
        "    if pd.isna(text):\n",
        "        return \"\"\n",
        "    text = re.sub(r'\\[.*?\\]', '', text)  # Remove product codes\n",
        "    text = re.sub(r'\\b[A-Z]{3}\\d{4}\\b', '', text)  # Remove product IDs\n",
        "    text = re.sub(r'\\s+', ' ', text).strip()  # Remove extra spaces\n",
        "    return text\n",
        "\n",
        "emails_df['clean_subject'] = emails_df['subject'].apply(clean_text)\n",
        "emails_df['clean_body'] = emails_df['message'].apply(clean_text)"
      ],
      "metadata": {
        "id": "ya2hHqZy6aOz"
      },
      "execution_count": 7,
      "outputs": []
    },
    {
      "cell_type": "code",
      "source": [
        "\n",
        "class ProductVectorStore:\n",
        "  def __init__(self, products_df):\n",
        "    self.products = products_df\n",
        "    self.embeddings = {}\n",
        "    self.contexts = []\n",
        "\n",
        "  def generate_embeddings(self):\n",
        "      for _, row in self.products.iterrows():\n",
        "        context = (\n",
        "          f\"Product: {row['name']} | \"\n",
        "          f\"Category: {row['category']} | \"\n",
        "          f\"Description: {row['description']} | \"\n",
        "          f\"Stock: {row['stock']} | \"\n",
        "          f\"Season: {row['seasons']}\"\n",
        "        )\n",
        "        self.contexts.append(context)\n",
        "\n",
        "      response = client.embeddings.create(\n",
        "        input=self.contexts,\n",
        "        model=\"text-embedding-3-small\"\n",
        "      )\n",
        "      self.embeddings = {ctx: emb.embedding for ctx, emb in zip(self.contexts, response.data)}\n",
        "\n",
        "  def retrieve_relevant(self, query, top_k=2):\n",
        "    query_emb = client.embeddings.create(\n",
        "      input=[query],\n",
        "      model=\"text-embedding-3-small\"\n",
        "    ).data[0].embedding\n",
        "\n",
        "    similarities = []\n",
        "    for text, emb in self.embeddings.items():\n",
        "      cos_sim = np.dot(emb, query_emb)\n",
        "      similarities.append((text, cos_sim))\n",
        "\n",
        "    return sorted(similarities, key=lambda x: x[1], reverse=True)[:top_k]"
      ],
      "metadata": {
        "id": "ULtqaEfr6iyu"
      },
      "execution_count": 8,
      "outputs": []
    },
    {
      "cell_type": "code",
      "source": [
        "class EnhancedEmailClassifier:\n",
        "    INQUIRY_KEYWORDS = [\n",
        "        'question', 'inquiry', 'recommend', 'advice',\n",
        "        'information', 'details', 'compare', 'difference',\n",
        "        'suitable', 'appropriate', 'help', 'considering',\n",
        "        'thinking about', 'wondering', 'curious', 'confirm'\n",
        "    ]\n",
        "\n",
        "    ORDER_KEYWORDS = [\n",
        "        'order', 'buy', 'purchase', 'send me',\n",
        "        'deliver', 'quantity', 'how many', 'take all',\n",
        "        'remaining stock', 'place order', 'commit to',\n",
        "        'immediately', 'right now', 'today', 'asap'\n",
        "    ]\n",
        "\n",
        "    # FUTURE purchase patterns\n",
        "    FUTURE_PATTERNS = [\n",
        "        'will', 'later', 'future', 'next month',\n",
        "        'plan to', 'looking to buy', 'need to buy'\n",
        "    ]\n",
        "\n",
        "    # Strong order regex patterns\n",
        "    STRONG_ORDER_PHRASES = [\n",
        "        r'\\bsend me\\b', r'\\btake all\\b', r'\\bremaining stock\\b',\n",
        "        r'\\bplace.*order\\b', r'\\bcommit to\\b',\n",
        "        r\"\\bi would like to (?:buy|order)\\b\", r\"\\bi'd like to (?:buy|order)\\b\",\n",
        "        r\"\\bcould you send me\\b\", r\"\\bcan you send me\\b\",\n",
        "        r\"\\bplease send me\\b\", r\"\\bplease ship\\b\"\n",
        "    ]\n",
        "\n",
        "    def __init__(self, vector_store):\n",
        "        self.vector_store = vector_store\n",
        "        self.cache = {}\n",
        "\n",
        "    def classify_email(self, email_id: str, subject: str, body: str) -> str:\n",
        "        key = (subject or '')[:30] + (body or '')[:30]\n",
        "        if key in self.cache:\n",
        "            return self.cache[key]\n",
        "\n",
        "        pre = self.rule_based_classifier(subject, body)\n",
        "        llm = self.llm_classification(subject, body, pre)\n",
        "        final = self.validate_classification(llm, subject, body)\n",
        "\n",
        "        self.cache[key] = final\n",
        "        return final\n",
        "\n",
        "    def rule_based_classifier(self, subject: str, body: str) -> str:\n",
        "        text = f\"{subject or ''} {body or ''}\".lower()\n",
        "\n",
        "        # 1) Strong order indicators\n",
        "        for pattern in self.STRONG_ORDER_PHRASES:\n",
        "            if re.search(pattern, text):\n",
        "                return \"order request\"\n",
        "\n",
        "        # 2) Future intent becomes inquiry only if no order keyword\n",
        "        has_future = any(fp in text for fp in self.FUTURE_PATTERNS)\n",
        "        has_order_kw = any(re.search(rf\"\\b{kw}\\b\", text) for kw in self.ORDER_KEYWORDS)\n",
        "        if has_future and not has_order_kw:\n",
        "            return \"product inquiry\"\n",
        "\n",
        "        # 3) Strong inquiry indicators\n",
        "        if any(re.search(rf\"\\b{kw}\\b\", text) for kw in self.INQUIRY_KEYWORDS):\n",
        "            return \"product inquiry\"\n",
        "\n",
        "        # 4) Question mark\n",
        "        if '?' in text:\n",
        "            return \"product inquiry\"\n",
        "\n",
        "        return None\n",
        "\n",
        "    def llm_classification(self, subject, body, pre_class):\n",
        "        # If rule-based is confident, use it\n",
        "        if pre_class:\n",
        "            return pre_class\n",
        "\n",
        "        email_content = f\"Subject: {subject}\\nBody: {body}\"\n",
        "\n",
        "        # Get relevant context\n",
        "        context_items = self.vector_store.retrieve_relevant(email_content)\n",
        "        context_str = \"\\n\".join([item[0] for item in context_items])\n",
        "\n",
        "        # Enhanced system prompt\n",
        "        system_prompt = \"\"\"\n",
        "        You are an email classifier for a fashion retailer. Strictly categorize emails as:\n",
        "        - \"product inquiry\": Questions about products, features, availability, colors, sizes, recommendations, or future purchase considerations\n",
        "        - \"order request\": Explicit, immediate purchase intent with specific products and quantities\n",
        "\n",
        "        Key differences:\n",
        "        - \"I want to buy\" = ORDER if immediate action is stated\n",
        "        - \"I'm thinking of buying\" = INQUIRY\n",
        "        - \"How much is\" = INQUIRY\n",
        "        - \"Send me 2 of these\" = ORDER\n",
        "\n",
        "        Respond ONLY with \"product inquiry\" or \"order request\"\n",
        "        \"\"\"\n",
        "\n",
        "        try:\n",
        "            response = client.chat.completions.create(\n",
        "                model=\"gpt-4o\",\n",
        "                messages=[\n",
        "                    {\"role\": \"system\", \"content\": system_prompt},\n",
        "                    {\"role\": \"user\", \"content\": f\"Relevant Products:\\n{context_str}\\n\\nEmail:\\n{email_content}\"}\n",
        "                ],\n",
        "                temperature=0.0,  # More deterministic\n",
        "                max_tokens=10\n",
        "            )\n",
        "            return response.choices[0].message.content.strip().lower()\n",
        "        except Exception:\n",
        "            return self.fallback_classifier(subject, body)\n",
        "\n",
        "    def fallback_classifier(self, subject: str, body: str) -> str:\n",
        "        text = f\"{subject or ''} {body or ''}\".lower()\n",
        "        inq_score = sum(bool(re.search(rf\"\\b{kw}\\b\", text)) for kw in self.INQUIRY_KEYWORDS)\n",
        "        ord_score = sum(bool(re.search(rf\"\\b{kw}\\b\", text)) for kw in self.ORDER_KEYWORDS)\n",
        "        future = any(fp in text for fp in self.FUTURE_PATTERNS)\n",
        "        if ord_score > inq_score and not future:\n",
        "            return \"order request\"\n",
        "        return \"product inquiry\"\n",
        "\n",
        "    def validate_classification(self, classification: str, subject: str, body: str) -> str:\n",
        "        text = f\"{subject or ''} {body or ''}\".lower()\n",
        "        future = any(fp in text for fp in self.FUTURE_PATTERNS)\n",
        "        valid = classification if classification in [\"product inquiry\", \"order request\"] else \"product inquiry\"\n",
        "        if valid == \"order request\" and future:\n",
        "            return \"product inquiry\"\n",
        "        return valid\n",
        "\n"
      ],
      "metadata": {
        "id": "n1usoNpg7A1d"
      },
      "execution_count": 13,
      "outputs": []
    },
    {
      "cell_type": "code",
      "source": [
        "# --- Execute Classification ---\n",
        "# Initialize vector store\n",
        "vector_store = ProductVectorStore(products_df)\n",
        "vector_store.generate_embeddings()\n",
        "\n",
        "# Initialize classifier\n",
        "classifier = EnhancedEmailClassifier(vector_store)\n",
        "\n",
        "# Classify emails\n",
        "results = []\n",
        "for _, row in emails_df.iterrows():\n",
        "  classification = classifier.classify_email(\n",
        "    row['email_id'],\n",
        "    row['clean_subject'],\n",
        "    row['clean_body']\n",
        "  )\n",
        "  results.append({\n",
        "    'email ID': row['email_id'],\n",
        "    'category': classification\n",
        "  })\n",
        "\n",
        "# Create output DataFrame\n",
        "classification_df = pd.DataFrame(results)\n",
        "\n",
        "# Save results\n",
        "classification_df.to_csv('improved_email_classification.csv', index=False)\n",
        "print(\"Improved classification completed!\")\n",
        "\n",
        "# Display results\n",
        "print(classification_df)"
      ],
      "metadata": {
        "colab": {
          "base_uri": "https://localhost:8080/"
        },
        "id": "W-NxMMu88LM-",
        "outputId": "944ab167-de33-4dea-cae2-91c07edadc81"
      },
      "execution_count": 14,
      "outputs": [
        {
          "output_type": "stream",
          "name": "stdout",
          "text": [
            "Improved classification completed!\n",
            "   email ID         category\n",
            "0      E001    order request\n",
            "1      E002  product inquiry\n",
            "2      E003  product inquiry\n",
            "3      E004    order request\n",
            "4      E005  product inquiry\n",
            "5      E006    order request\n",
            "6      E007    order request\n",
            "7      E008    order request\n",
            "8      E009  product inquiry\n",
            "9      E010    order request\n",
            "10     E011  product inquiry\n",
            "11     E012  product inquiry\n",
            "12     E013  product inquiry\n",
            "13     E014    order request\n",
            "14     E015  product inquiry\n",
            "15     E016  product inquiry\n",
            "16     E017    order request\n",
            "17     E018    order request\n",
            "18     E019    order request\n",
            "19     E020  product inquiry\n",
            "20     E021  product inquiry\n",
            "21     E022    order request\n",
            "22     E023    order request\n"
          ]
        }
      ]
    },
    {
      "cell_type": "code",
      "source": [
        "from google.colab import auth\n",
        "import gspread\n",
        "from google.auth import default\n",
        "from gspread_dataframe import set_with_dataframe\n",
        "\n",
        "auth.authenticate_user()  # Prompt user to authenticate in Colab\n",
        "creds, _ = default()      # Get default credentials\n",
        "gc = gspread.authorize(creds)\n",
        "\n",
        "# 2. Create the output Google Spreadsheet\n",
        "doc_title = 'Solving Business Problems with AI - Output'\n",
        "output_document = gc.create(doc_title)\n",
        "print(f\"Created spreadsheet: {doc_title} (ID: {output_document.id})\")\n",
        "\n",
        "# 3. Share the spreadsheet publicly (read-only)\n",
        "# Replace '' with a specific email if needed\n",
        "auth_role = 'reader'\n",
        "auth_type = 'anyone'\n",
        "output_document.share('', perm_type=auth_type, role=auth_role)\n",
        "print(\"Spreadsheet shared publicly with read-only access.\")"
      ],
      "metadata": {
        "colab": {
          "base_uri": "https://localhost:8080/"
        },
        "id": "zuEzPxaSwQBZ",
        "outputId": "3a3a4761-8e26-446c-bb00-53b47d406da2"
      },
      "execution_count": 15,
      "outputs": [
        {
          "output_type": "stream",
          "name": "stdout",
          "text": [
            "Created spreadsheet: Solving Business Problems with AI - Output (ID: 1zOkSYLLu2Ng5PcJRnInkDBa8wa4RewBRgvPmEzcFhXQ)\n",
            "Spreadsheet shared publicly with read-only access.\n"
          ]
        }
      ]
    },
    {
      "cell_type": "code",
      "source": [
        "def create_and_fill(title, df, headers):\n",
        "    \"\"\"\n",
        "    Creates a worksheet named `title` and writes `headers` then `df`.\n",
        "    \"\"\"\n",
        "    worksheet = output_document.add_worksheet(title=title, rows=str(len(df)+10), cols=str(len(df.columns)+1))\n",
        "    # Write header row\n",
        "    worksheet.update([headers], 'A1')\n",
        "    # Write DataFrame\n",
        "    set_with_dataframe(worksheet, df, include_index=False, include_column_header=False, row=2, col=1)\n",
        "    print(f\"Populated '{title}' with {len(df)} rows.\")"
      ],
      "metadata": {
        "id": "_73KgT_mwf7V"
      },
      "execution_count": 16,
      "outputs": []
    },
    {
      "cell_type": "code",
      "source": [
        "create_and_fill('email-classification', classification_df, ['email ID', 'category'])"
      ],
      "metadata": {
        "colab": {
          "base_uri": "https://localhost:8080/"
        },
        "id": "gghkMXJPwug8",
        "outputId": "3ffb0b16-12bc-4e00-c179-bac46758620f"
      },
      "execution_count": 17,
      "outputs": [
        {
          "output_type": "stream",
          "name": "stdout",
          "text": [
            "Populated 'email-classification' with 23 rows.\n"
          ]
        }
      ]
    },
    {
      "cell_type": "code",
      "source": [
        "print(f\"Shareable link: https://docs.google.com/spreadsheets/d/{output_document.id}\")"
      ],
      "metadata": {
        "colab": {
          "base_uri": "https://localhost:8080/"
        },
        "id": "rj8-ePTew2R9",
        "outputId": "ed5aa884-dc51-4b08-a828-5b5d0b666f22"
      },
      "execution_count": 18,
      "outputs": [
        {
          "output_type": "stream",
          "name": "stdout",
          "text": [
            "Shareable link: https://docs.google.com/spreadsheets/d/1zOkSYLLu2Ng5PcJRnInkDBa8wa4RewBRgvPmEzcFhXQ\n"
          ]
        }
      ]
    },
    {
      "cell_type": "markdown",
      "metadata": {
        "id": "lm3ZeatjYjM3"
      },
      "source": [
        "# Task 2. Process order requests"
      ]
    },
    {
      "cell_type": "markdown",
      "metadata": {
        "id": "29ExT_MQRhos"
      },
      "source": [
        "# Task 3. Handle product inquiry"
      ]
    }
  ]
}